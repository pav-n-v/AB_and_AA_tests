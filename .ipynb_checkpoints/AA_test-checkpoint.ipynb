{
 "cells": [
  {
   "cell_type": "code",
   "execution_count": 73,
   "id": "123f6922-1875-444d-b6e0-aa2407a6e965",
   "metadata": {},
   "outputs": [],
   "source": [
    "import pandas as pd\n",
    "import pandahouse as ph\n",
    "from scipy import stats\n",
    "import numpy as np\n",
    "import seaborn as sns\n",
    "import matplotlib.pyplot as plt\n",
    "%matplotlib inline\n",
    "\n",
    "connection = {'host': 'https://clickhouse.lab.karpov.courses',\n",
    "                      'database':'simulator_20230320',\n",
    "                      'user':'student', \n",
    "                      'password':'dpo_python_2020'\n",
    "                     }\n",
    "\n",
    "query = '''\n",
    "SELECT  exp_group,\n",
    "        user_id,\n",
    "        sum(action='like') AS likes,\n",
    "        sum(action='view') AS views,\n",
    "        likes/views AS ctr\n",
    "FROM    {db}.feed_actions\n",
    "WHERE   toDate(time) BETWEEN '2023-02-23' AND '2023-03-01'\n",
    "        AND exp_group in (2,3)\n",
    "GROUP BY exp_group, user_id\n",
    "'''\n",
    "\n",
    "df = ph.read_clickhouse(query, connection=connection)\n"
   ]
  },
  {
   "cell_type": "code",
   "execution_count": 80,
   "id": "ddcf5dd5-2d0f-45da-a74e-c3273cb320e0",
   "metadata": {},
   "outputs": [],
   "source": [
    "pvalues = []\n",
    "for _ in range(10000):\n",
    "    #sample500_2 = df[df.exp_group == 2].user_id.sample(n=500).tolist()\n",
    "    #sample500_3 = df[df.exp_group == 3].user_id.sample(n=500).tolist()\n",
    "\n",
    "    #statistic, p_value = stats.ttest_ind(df.query('user_id in @sample500_2').ctr,\n",
    "    #                                     df.query('user_id in @sample500_3').ctr,\n",
    "    #                                     equal_var=False)\n",
    "    statistic, p_value = stats.ttest_ind(df[df.exp_group == 2].ctr.sample(n=500),\n",
    "                                         df[df.exp_group == 3].ctr.sample(n=500),\n",
    "                                         equal_var=False)\n",
    "    pvalues.append(p_value)"
   ]
  },
  {
   "cell_type": "code",
   "execution_count": 81,
   "id": "e895a92c-8b3f-44b9-b10e-bef3c18d56e7",
   "metadata": {},
   "outputs": [
    {
     "data": {
      "text/plain": [
       "<AxesSubplot:ylabel='Count'>"
      ]
     },
     "execution_count": 81,
     "metadata": {},
     "output_type": "execute_result"
    },
    {
     "data": {
      "image/png": "[encoded data removed]",
      "text/plain": [
       "<Figure size 432x288 with 1 Axes>"
      ]
     },
     "metadata": {
      "needs_background": "light"
     },
     "output_type": "display_data"
    }
   ],
   "source": [
    "sns.histplot(pvalues)"
   ]
  },
  {
   "cell_type": "code",
   "execution_count": 82,
   "id": "3c8680c5-d7be-4f72-a888-f12faed70c0b",
   "metadata": {},
   "outputs": [
    {
     "data": {
      "text/plain": [
       "<AxesSubplot:ylabel='Count'>"
      ]
     },
     "execution_count": 82,
     "metadata": {},
     "output_type": "execute_result"
    },
    {
     "data": {
      "image/png": "[encoded data removed]",
      "text/plain": [
       "<Figure size 864x432 with 1 Axes>"
      ]
     },
     "metadata": {
      "needs_background": "light"
     },
     "output_type": "display_data"
    }
   ],
   "source": [
    "plt.figure(figsize=(12,6))\n",
    "sns.histplot(pvalues, log_scale=True)"
   ]
  },
  {
   "cell_type": "code",
   "execution_count": 83,
   "id": "95254f69-2669-493b-9fec-e2ad34f025ef",
   "metadata": {},
   "outputs": [
    {
     "data": {
      "text/plain": [
       "0.0472"
      ]
     },
     "execution_count": 83,
     "metadata": {},
     "output_type": "execute_result"
    }
   ],
   "source": [
    "sum(np.array(pvalues)<0.05)/10000"
   ]
  },
  {
   "cell_type": "markdown",
   "id": "23496286-857f-4997-8fff-d18d9bf01a2e",
   "metadata": {},
   "source": [
    "По данным выше видно, что АА тест прокрасился в 4.72% случаев, а значит, значимых отличий в наших выборках нет."
   ]
  }
 ],
 "metadata": {
  "kernelspec": {
   "display_name": "Python 3 (ipykernel)",
   "language": "python",
   "name": "python3"
  },
  "language_info": {
   "codemirror_mode": {
    "name": "ipython",
    "version": 3
   },
   "file_extension": ".py",
   "mimetype": "text/x-python",
   "name": "python",
   "nbconvert_exporter": "python",
   "pygments_lexer": "ipython3",
   "version": "3.8.10"
  }
 },
 "nbformat": 4,
 "nbformat_minor": 5
}
