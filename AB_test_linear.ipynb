{
 "cells": [
  {
   "cell_type": "code",
   "execution_count": 2,
   "id": "bde7fd85-9faf-453c-b5eb-b3337fdc0fa6",
   "metadata": {},
   "outputs": [],
   "source": [
    "import pandas as pd\n",
    "import pandahouse as ph\n",
    "from scipy import stats\n",
    "import numpy as np\n",
    "import seaborn as sns\n",
    "import matplotlib.pyplot as plt\n",
    "%matplotlib inline\n",
    "\n",
    "connection = {'host': 'https://clickhouse.lab.karpov.courses',\n",
    "                      'database':'simulator_20230320',\n",
    "                      'user':'student', \n",
    "                      'password':'dpo_python_2020'\n",
    "                     }\n",
    "\n",
    "query1 = '''\n",
    "SELECT  exp_group,\n",
    "        user_id,\n",
    "        sum(action='like') AS likes,\n",
    "        sum(action='view') AS views,\n",
    "        likes/views AS ctr\n",
    "FROM    {db}.feed_actions\n",
    "WHERE   toDate(time) BETWEEN '2023-03-02' AND '2023-03-08'\n",
    "        AND exp_group in (1,2)\n",
    "GROUP BY exp_group, user_id\n",
    "'''\n",
    "query2 = '''\n",
    "SELECT  exp_group,\n",
    "        user_id,\n",
    "        sum(action='like') AS likes,\n",
    "        sum(action='view') AS views,\n",
    "        likes/views AS ctr\n",
    "FROM    {db}.feed_actions\n",
    "WHERE   toDate(time) BETWEEN '2023-03-02' AND '2023-03-08'\n",
    "        AND exp_group in (0,3)\n",
    "GROUP BY exp_group, user_id\n",
    "'''\n",
    "\n",
    "df1 = ph.read_clickhouse(query1, connection=connection)\n",
    "df2 = ph.read_clickhouse(query2, connection=connection)\n"
   ]
  },
  {
   "cell_type": "code",
   "execution_count": 5,
   "id": "1cdfe3e2-d385-4780-a302-ca5d946ec191",
   "metadata": {},
   "outputs": [],
   "source": [
    "𝐶𝑇𝑅𝑐𝑜𝑛𝑡𝑟𝑜𝑙1 = df1.query('exp_group == 1').likes.sum()/ df1.query('exp_group == 1').views.sum()\n",
    "𝐶𝑇𝑅𝑐𝑜𝑛𝑡𝑟𝑜𝑙2 = df2.query('exp_group == 0').likes.sum()/ df2.query('exp_group == 0').views.sum()"
   ]
  },
  {
   "cell_type": "code",
   "execution_count": 6,
   "id": "95ad21f6-c050-459d-9f72-ec5ce4cf7d25",
   "metadata": {},
   "outputs": [],
   "source": [
    "df1['linearized_likes'] = df1.likes - CTRcontrol1 * df1.views\n",
    "df2['linearized_likes'] = df2.likes - CTRcontrol2 * df2.views"
   ]
  },
  {
   "cell_type": "code",
   "execution_count": 11,
   "id": "72331f04-bdfc-479f-a568-fc16167583ff",
   "metadata": {},
   "outputs": [
    {
     "name": "stdout",
     "output_type": "stream",
     "text": [
      "Ttest_indResult(statistic=6.122579994775972, pvalue=9.439432187037712e-10)\n",
      "Ttest_indResult(statistic=0.7094392041270485, pvalue=0.4780623130874935)\n"
     ]
    }
   ],
   "source": [
    "print(stats.ttest_ind(df1[df1.exp_group == 1].linearized_likes, \n",
    "                   df1[df1.exp_group == 2].linearized_likes, \n",
    "                   equal_var = False))\n",
    "print(stats.ttest_ind(df1[df1.exp_group == 1].ctr, \n",
    "                   df1[df1.exp_group == 2].ctr, \n",
    "                   equal_var = False))"
   ]
  },
  {
   "cell_type": "code",
   "execution_count": 12,
   "id": "3c149013-3471-4cdf-a1d9-891d490abe12",
   "metadata": {},
   "outputs": [
    {
     "name": "stdout",
     "output_type": "stream",
     "text": [
      "Ttest_indResult(statistic=-15.21499546090383, pvalue=5.4914249479687664e-52)\n",
      "Ttest_indResult(statistic=-13.896870721904069, pvalue=1.055849414662529e-43)\n"
     ]
    }
   ],
   "source": [
    "print(stats.ttest_ind(df2[df2.exp_group == 0].linearized_likes, \n",
    "                   df2[df2.exp_group == 3].linearized_likes, \n",
    "                   equal_var = False))\n",
    "print(stats.ttest_ind(df2[df2.exp_group == 0].ctr, \n",
    "                   df2[df2.exp_group == 3].ctr, \n",
    "                   equal_var = False))"
   ]
  },
  {
   "cell_type": "markdown",
   "id": "e0ba50e2-559f-4cf2-b2b6-d60302d54345",
   "metadata": {},
   "source": [
    "При использовании использовании t-testa на метрике линеаризованных лайков получается более высокая чувствительность теста, он прокрасился даже на тех данных, где до этого распределение было скошенным и t-test использовать было нельзя(1 и 2 группы). p-value уменьшилось в обоих случаях"
   ]
  }
 ],
 "metadata": {
  "kernelspec": {
   "display_name": "Python 3 (ipykernel)",
   "language": "python",
   "name": "python3"
  },
  "language_info": {
   "codemirror_mode": {
    "name": "ipython",
    "version": 3
   },
   "file_extension": ".py",
   "mimetype": "text/x-python",
   "name": "python",
   "nbconvert_exporter": "python",
   "pygments_lexer": "ipython3",
   "version": "3.8.10"
  }
 },
 "nbformat": 4,
 "nbformat_minor": 5
}
