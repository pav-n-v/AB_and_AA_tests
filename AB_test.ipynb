{
 "cells": [
  {
   "cell_type": "code",
   "execution_count": 1,
   "id": "fa5187c7-c6ab-4853-af82-0edf3299e31a",
   "metadata": {},
   "outputs": [],
   "source": [
    "import pandas as pd\n",
    "import pandahouse as ph\n",
    "from scipy import stats\n",
    "import numpy as np\n",
    "import seaborn as sns\n",
    "from dotenv import load_dotenv\n",
    "import os\n",
    "import matplotlib.pyplot as plt\n",
    "%matplotlib inline\n",
    "\n",
    "load_dotenv()\n",
    "connection = os.getenv("CONNECTION_DB_SIM")\n",
    "\n",
    "query = '''\n",
    "SELECT  exp_group,\n",
    "        user_id,\n",
    "        sum(action='like') AS likes,\n",
    "        sum(action='view') AS views,\n",
    "        likes/views AS ctr\n",
    "FROM    {db}.feed_actions\n",
    "WHERE   toDate(time) BETWEEN '2023-03-02' AND '2023-03-08'\n",
    "        AND exp_group in (1,2)\n",
    "GROUP BY exp_group, user_id\n",
    "'''\n",
    "\n",
    "df = ph.read_clickhouse(query, connection=connection)\n"
   ]
  },
  {
   "cell_type": "code",
   "execution_count": 8,
   "id": "a9300d6b-ee4b-4fa4-81d6-b2d970d395ce",
   "metadata": {},
   "outputs": [
    {
     "data": {
      "image/png": "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\n",
      "text/plain": [
       "<Figure size 432x288 with 1 Axes>"
      ]
     },
     "metadata": {
      "needs_background": "light"
     },
     "output_type": "display_data"
    }
   ],
   "source": [
    "groups = sns.histplot(data = df, \n",
    "              x='ctr', \n",
    "              hue='exp_group', \n",
    "              palette = ['r', 'b'],\n",
    "              alpha=0.5,\n",
    "              kde=False)"
   ]
  },
  {
   "cell_type": "code",
   "execution_count": 43,
   "id": "f2e5da4c-e0a7-48c3-a1d0-4f4d9d73e269",
   "metadata": {},
   "outputs": [
    {
     "data": {
      "text/plain": [
       "Ttest_indResult(statistic=0.7094392041270486, pvalue=0.4780623130874935)"
      ]
     },
     "execution_count": 43,
     "metadata": {},
     "output_type": "execute_result"
    }
   ],
   "source": [
    "stats.ttest_ind(df[df.exp_group == 1].ctr,\n",
    "                df[df.exp_group == 2].ctr,\n",
    "                equal_var=False)"
   ]
  },
  {
   "cell_type": "markdown",
   "id": "4c36f1ca-f505-415d-b659-2343db7bfda4",
   "metadata": {},
   "source": [
    "Распределение группы с новой функциональностью сильно скошено. На нем использовать t-test нельзя. \n",
    "Данный тест не показал значимых различий, хотя даже визуально видно, что они есть.\n",
    "\n",
    "Можно попробовать сгладить CTR и снова проверить t-test"
   ]
  },
  {
   "cell_type": "code",
   "execution_count": 49,
   "id": "43c0c163-0b71-4e67-a9e5-9de0e9221859",
   "metadata": {},
   "outputs": [
    {
     "name": "stderr",
     "output_type": "stream",
     "text": [
      "/nfs/env/lib/python3.8/site-packages/seaborn/distributions.py:2557: FutureWarning: `distplot` is a deprecated function and will be removed in a future version. Please adapt your code to use either `displot` (a figure-level function with similar flexibility) or `histplot` (an axes-level function for histograms).\n",
      "  warnings.warn(msg, FutureWarning)\n"
     ]
    },
    {
     "data": {
      "text/plain": [
       "<AxesSubplot:xlabel='smothed_ctr'>"
      ]
     },
     "execution_count": 49,
     "metadata": {},
     "output_type": "execute_result"
    },
    {
     "data": {
      "image/png": "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\n",
      "text/plain": [
       "<Figure size 432x288 with 1 Axes>"
      ]
     },
     "metadata": {
      "needs_background": "light"
     },
     "output_type": "display_data"
    }
   ],
   "source": [
    "def get_smothed_ctr(user_likes, user_views, global_ctr, alpha):\n",
    "    smothed_ctr = (user_likes + alpha * global_ctr) / (user_views + alpha)\n",
    "    return smothed_ctr\n",
    "\n",
    "global_ctr_1 = df[df.exp_group == 1].likes.sum()/df[df.exp_group == 1].views.sum()\n",
    "global_ctr_2 = df[df.exp_group == 2].likes.sum()/df[df.exp_group == 2].views.sum()\n",
    "\n",
    "group1 = df[df.exp_group == 1].copy()\n",
    "group2 = df[df.exp_group == 2].copy()\n",
    "\n",
    "group1['smothed_ctr'] = df.apply(\n",
    "    lambda x: get_smothed_ctr(x['likes'], x['views'], global_ctr_1, 5), axis=1)\n",
    "\n",
    "sns.distplot(group1.smothed_ctr, \n",
    "             kde = False)\n",
    "\n",
    "group2['smothed_ctr'] = df.apply(\n",
    "    lambda x: get_smothed_ctr(x['likes'], x['views'], global_ctr_2, 5), axis=1)\n",
    "\n",
    "sns.distplot(group2.smothed_ctr, \n",
    "             kde = False)"
   ]
  },
  {
   "cell_type": "code",
   "execution_count": 50,
   "id": "ee1cec78-989f-4ae1-af17-4f477b7d9fd2",
   "metadata": {},
   "outputs": [
    {
     "data": {
      "text/plain": [
       "Ttest_indResult(statistic=2.2841320431616983, pvalue=0.0223769815558559)"
      ]
     },
     "execution_count": 50,
     "metadata": {},
     "output_type": "execute_result"
    }
   ],
   "source": [
    "stats.ttest_ind(group1.smothed_ctr,\n",
    "                group2.smothed_ctr,\n",
    "                equal_var=False)"
   ]
  },
  {
   "cell_type": "markdown",
   "id": "d251d4a0-5093-4bc0-9758-151b646c280a",
   "metadata": {},
   "source": [
    "После сглаживания t-test уже показал значимые различия\n",
    "Однако у сглаживания CTR нет теоретической гарантии, что его направленность совпадает с направленностью общего количества кликов.\n",
    "Поэтому проверим используем более подходящий в данном случае тест Манна-Уитни"
   ]
  },
  {
   "cell_type": "code",
   "execution_count": 46,
   "id": "b9e90df9-69e4-4bd4-b231-9b29d80fe8b9",
   "metadata": {},
   "outputs": [
    {
     "name": "stdout",
     "output_type": "stream",
     "text": [
      "MannwhitneyuResult(statistic=56601260.5, pvalue=6.0376484617779035e-56)\n",
      "В 56.37 % случаев A > B. Должно получиться около 50%\n"
     ]
    }
   ],
   "source": [
    "print(stats.mannwhitneyu(df[df.exp_group == 1].ctr,\n",
    "                        df[df.exp_group == 2].ctr))\n",
    "\n",
    "A_gt_B = 0\n",
    "for _ in range(10000):\n",
    "    A_gt_B+= df[df.exp_group == 1].ctr.sample().values[0] > df[df.exp_group == 2].ctr.sample().values[0]\n",
    "    \n",
    "print('В', A_gt_B/100, '% случаев A > B. Должно получиться около 50%')"
   ]
  },
  {
   "cell_type": "markdown",
   "id": "76f6485b-c324-495a-895a-7a42d4715a21",
   "metadata": {},
   "source": [
    "В случае теста Манна-Уитни есть статистически значимые различия между группами. Причем CTR группы А больше CTR группы В.\n",
    "Получается, что новый функционал, наоборот, снизил отслеживаемую метрику"
   ]
  },
  {
   "cell_type": "markdown",
   "id": "e1478931-364b-4eed-a2d7-462066864b10",
   "metadata": {},
   "source": [
    "Попробем еще Пуассоновский бутстреп"
   ]
  },
  {
   "cell_type": "code",
   "execution_count": 13,
   "id": "eaceedfe-c3bd-4747-af94-8721abcffc29",
   "metadata": {},
   "outputs": [
    {
     "data": {
      "text/plain": [
       "<AxesSubplot:ylabel='Count'>"
      ]
     },
     "execution_count": 13,
     "metadata": {},
     "output_type": "execute_result"
    },
    {
     "data": {
      "image/png": "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\n",
      "text/plain": [
       "<Figure size 432x288 with 1 Axes>"
      ]
     },
     "metadata": {
      "needs_background": "light"
     },
     "output_type": "display_data"
    }
   ],
   "source": [
    "def bootstrap(likes1, views1, likes2, views2, n_bootstrap=2000):\n",
    "\n",
    "    poisson_bootstraps1 = stats.poisson(1).rvs(\n",
    "        (n_bootstrap, len(likes1))).astype(np.int64)\n",
    "\n",
    "    poisson_bootstraps2 = stats.poisson(1).rvs(\n",
    "            (n_bootstrap, len(likes2))).astype(np.int64)\n",
    "    \n",
    "    globalCTR1 = (poisson_bootstraps1*likes1).sum(axis=1)/(poisson_bootstraps1*views1).sum(axis=1)\n",
    "    \n",
    "    globalCTR2 = (poisson_bootstraps2*likes2).sum(axis=1)/(poisson_bootstraps2*views2).sum(axis=1)\n",
    "\n",
    "    return globalCTR1, globalCTR2\n",
    "\n",
    "likes1 = df[df.exp_group == 1].likes.to_numpy()\n",
    "views1 = df[df.exp_group == 1].views.to_numpy()\n",
    "likes2 = df[df.exp_group == 2].likes.to_numpy()\n",
    "views2 = df[df.exp_group == 2].views.to_numpy()\n",
    "\n",
    "ctr1, ctr2 = bootstrap(likes1, views1, likes2, views2)\n",
    "\n",
    "sns.histplot(ctr1)\n",
    "sns.histplot(ctr2)"
   ]
  },
  {
   "cell_type": "code",
   "execution_count": 15,
   "id": "98f54c7f-e5e1-48f0-89f4-7ead94552f9a",
   "metadata": {},
   "outputs": [
    {
     "data": {
      "text/plain": [
       "<AxesSubplot:ylabel='Count'>"
      ]
     },
     "execution_count": 15,
     "metadata": {},
     "output_type": "execute_result"
    },
    {
     "data": {
      "image/png": "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\n",
      "text/plain": [
       "<Figure size 432x288 with 1 Axes>"
      ]
     },
     "metadata": {
      "needs_background": "light"
     },
     "output_type": "display_data"
    }
   ],
   "source": [
    "#Разница между глобальными CTR\n",
    "\n",
    "sns.histplot(ctr2 - ctr1)\n"
   ]
  },
  {
   "cell_type": "markdown",
   "id": "4ef8e6ea-b7d0-4227-a9b0-026709667dd4",
   "metadata": {},
   "source": [
    "Очень наглядно видно, что в группах есть статистические различия(распределения даже не пересекаются) и,\n",
    "что внедрение новой системы рекомендаций снизило CTR"
   ]
  },
  {
   "cell_type": "code",
   "execution_count": 33,
   "id": "3be072df-9172-4263-b9ce-8c3f4bf9c9cd",
   "metadata": {},
   "outputs": [],
   "source": [
    "q = \"\"\"\n",
    "\n",
    "SELECT  exp_group, \n",
    "        bucket,\n",
    "        sum(likes)/sum(views) as bucket_ctr\n",
    "FROM (SELECT exp_group, \n",
    "        xxHash64(user_id)%50 as bucket,\n",
    "        user_id,\n",
    "        sum(action = 'like') as likes,\n",
    "        sum(action = 'view') as views,\n",
    "        likes/views as ctr\n",
    "    FROM {db}.feed_actions \n",
    "   WHERE   toDate(time) BETWEEN '2023-03-02' AND '2023-03-08'\n",
    "        AND exp_group in (1,2)\n",
    "    GROUP BY exp_group, bucket, user_id)\n",
    "GROUP BY exp_group, bucket\n",
    "\"\"\"\n",
    "\n",
    "df_bucket = ph.read_clickhouse(q, connection=connection)\n"
   ]
  },
  {
   "cell_type": "code",
   "execution_count": 56,
   "id": "2d93bd66-dc7d-4994-bba2-033bbb9f4f14",
   "metadata": {},
   "outputs": [
    {
     "data": {
      "text/plain": [
       "<AxesSubplot:xlabel='bucket_ctr', ylabel='Count'>"
      ]
     },
     "execution_count": 56,
     "metadata": {},
     "output_type": "execute_result"
    },
    {
     "data": {
      "image/png": "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\n",
      "text/plain": [
       "<Figure size 432x288 with 1 Axes>"
      ]
     },
     "metadata": {
      "needs_background": "light"
     },
     "output_type": "display_data"
    }
   ],
   "source": [
    "sns.histplot(data = df_bucket, \n",
    "              x='bucket_ctr', \n",
    "              hue='exp_group', \n",
    "              palette = ['r', 'b'],\n",
    "              alpha=0.5,\n",
    "              kde=False)"
   ]
  },
  {
   "cell_type": "markdown",
   "id": "8027b0f6-d931-402c-88a0-03a79c1924e9",
   "metadata": {},
   "source": [
    "После бакетного преобразования распределения приобрели более нормальный вид и, наши тесты слали работать корректнее, например,при t-test уже хорошо видны различия"
   ]
  },
  {
   "cell_type": "code",
   "execution_count": 34,
   "id": "7826f03c-12d5-4ec2-9dd8-97f5f547d6de",
   "metadata": {},
   "outputs": [
    {
     "data": {
      "text/plain": [
       "MannwhitneyuResult(statistic=1995.0, pvalue=2.859963936492646e-07)"
      ]
     },
     "execution_count": 34,
     "metadata": {},
     "output_type": "execute_result"
    }
   ],
   "source": [
    "#тест Манна-Уитни видит отличие\n",
    "stats.mannwhitneyu(df_bucket[df_bucket.exp_group == 1].bucket_ctr, \n",
    "                   df_bucket[df_bucket.exp_group == 2].bucket_ctr, \n",
    "                   alternative = 'two-sided')"
   ]
  },
  {
   "cell_type": "code",
   "execution_count": 36,
   "id": "84399ca2-b60d-43ab-b929-8457b6b09fdf",
   "metadata": {},
   "outputs": [
    {
     "data": {
      "text/plain": [
       "Ttest_indResult(statistic=5.668234732053979, pvalue=3.4455951649945907e-07)"
      ]
     },
     "execution_count": 36,
     "metadata": {},
     "output_type": "execute_result"
    }
   ],
   "source": [
    "#и t-тест тоже\n",
    "\n",
    "stats.ttest_ind(df_bucket[df_bucket.exp_group == 1].bucket_ctr, \n",
    "                   df_bucket[df_bucket.exp_group == 2].bucket_ctr, \n",
    "                   equal_var = False)"
   ]
  },
  {
   "cell_type": "code",
   "execution_count": 60,
   "id": "6c24175d-d2d5-4396-aecb-2353307d934a",
   "metadata": {},
   "outputs": [
    {
     "data": {
      "text/plain": [
       "exp_group\n",
       "1    668236\n",
       "2    658310\n",
       "Name: views, dtype: uint64"
      ]
     },
     "execution_count": 60,
     "metadata": {},
     "output_type": "execute_result"
    }
   ],
   "source": [
    "df.groupby('exp_group').views.sum()\n"
   ]
  },
  {
   "cell_type": "code",
   "execution_count": 61,
   "id": "b0909611-665c-49c4-bc4e-79bf45e528fa",
   "metadata": {},
   "outputs": [
    {
     "data": {
      "text/plain": [
       "exp_group\n",
       "1    139011\n",
       "2    130385\n",
       "Name: likes, dtype: uint64"
      ]
     },
     "execution_count": 61,
     "metadata": {},
     "output_type": "execute_result"
    }
   ],
   "source": [
    "df.groupby(['exp_group',).likes.sum()\n"
   ]
  },
  {
   "cell_type": "markdown",
   "id": "b1d962a9-15e3-4cff-bc1f-93a65fc8ad69",
   "metadata": {},
   "source": [
    "<strong>Вывод:</strong> Раскатывать алгоритм на всех пользователей нельзя, так как он снижает глобальный CTR."
   ]
  }
 ],
 "metadata": {
  "kernelspec": {
   "display_name": "Python 3 (ipykernel)",
   "language": "python",
   "name": "python3"
  },
  "language_info": {
   "codemirror_mode": {
    "name": "ipython",
    "version": 3
   },
   "file_extension": ".py",
   "mimetype": "text/x-python",
   "name": "python",
   "nbconvert_exporter": "python",
   "pygments_lexer": "ipython3",
   "version": "3.8.10"
  }
 },
 "nbformat": 4,
 "nbformat_minor": 5
}
